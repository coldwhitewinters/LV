{
 "cells": [
  {
   "cell_type": "code",
   "execution_count": 1,
   "metadata": {},
   "outputs": [],
   "source": [
    "%load_ext autoreload\n",
    "%autoreload 2"
   ]
  },
  {
   "cell_type": "code",
   "execution_count": 2,
   "metadata": {},
   "outputs": [],
   "source": [
    "import sys\n",
    "sys.path.append(\"../scripts\")"
   ]
  },
  {
   "cell_type": "markdown",
   "metadata": {},
   "source": [
    "# Utils"
   ]
  },
  {
   "cell_type": "code",
   "execution_count": 3,
   "metadata": {},
   "outputs": [
    {
     "name": "stdout",
     "output_type": "stream",
     "text": [
      "Overwriting ../scripts/utils.py\n"
     ]
    }
   ],
   "source": [
    "%%writefile \"../scripts/utils.py\"\n",
    "\n",
    "import numpy as np\n",
    "import pandas as pd\n",
    "import matplotlib.pyplot as plt\n",
    "import progressbar\n",
    "import time\n",
    "\n",
    "class ProgressBar:\n",
    "    def __init__(self, max_value):\n",
    "        time.sleep(0.5)\n",
    "        self.bar = progressbar.ProgressBar(\n",
    "            min_value=0,\n",
    "            max_value=max_value,\n",
    "            initial_value=0,\n",
    "            widgets = [progressbar.SimpleProgress(), \n",
    "                       progressbar.Bar(), \n",
    "                       progressbar.Percentage()])\n",
    "        self.bar.update(0)\n",
    "        self.counter = 0\n",
    "    \n",
    "    def update(self):\n",
    "        self.bar.update(self.counter + 1)\n",
    "        self.counter += 1\n",
    "        \n",
    "    def finish(self):\n",
    "        self.bar.finish()       \n",
    "\n",
    "def flatten(x):\n",
    "    return [z for y in x for z in y]\n",
    "\n",
    "def plot_grid(df, n_cols, figsize):\n",
    "    n_rows = int(np.ceil(len(df.columns)/n_cols))\n",
    "    df.plot(subplots=True, layout=(n_rows, n_cols), figsize=figsize)\n",
    "\n",
    "def plot_fcst(fcst, train=None, test=None, ax=None):\n",
    "    lower = fcst.yhat_lower.interpolate()\n",
    "    upper = fcst.yhat_upper.interpolate()\n",
    "    if ax is None:\n",
    "        f, ax = plt.subplots(1, 1)\n",
    "    if train is not None:\n",
    "        train.plot(style=\"k.\", ax=ax)\n",
    "    if test is not None:\n",
    "        test.plot(style=\"r.\", ax=ax)\n",
    "    fcst.yhat.plot(ax=ax)\n",
    "    ax.fill_between(fcst.index, y1=lower, y2=upper, alpha=0.3)\n",
    "\n",
    "def get_amount_info(df):\n",
    "    amount_info = df.notna().sum().sort_values() / len(df)\n",
    "    return amount_info\n",
    "\n",
    "def get_forecastables(df, T=0.5, N=None):\n",
    "    amount_info = get_amount_info(df)\n",
    "    forecastable = (amount_info > T)\n",
    "    if N is not None:\n",
    "        forecastable = forecastable.tail(N)\n",
    "    return df.loc[:, forecastable.index].copy()\n"
   ]
  },
  {
   "cell_type": "markdown",
   "metadata": {},
   "source": [
    "# Forecaster"
   ]
  },
  {
   "cell_type": "code",
   "execution_count": 58,
   "metadata": {},
   "outputs": [
    {
     "name": "stdout",
     "output_type": "stream",
     "text": [
      "Overwriting ../scripts/forecaster.py\n"
     ]
    }
   ],
   "source": [
    "%%writefile \"../scripts/forecaster.py\"\n",
    "\n",
    "import numpy as np\n",
    "import pandas as pd\n",
    "from scipy.stats import boxcox\n",
    "from scipy.special import inv_boxcox\n",
    "from fbprophet import Prophet\n",
    "pd.plotting.register_matplotlib_converters()\n",
    "import pmdarima as pm\n",
    "from utils import ProgressBar\n",
    "\n",
    "class ProphetForecaster:\n",
    "    def __init__(\n",
    "        self,\n",
    "        use_boxcox=True,\n",
    "        yearly_seasonality=\"auto\",\n",
    "        weekly_seasonality=False,\n",
    "        daily_seasonality=False,\n",
    "        confidence_interval=0.8,\n",
    "        holidays=None,\n",
    "        country_holidays=None,\n",
    "        **kwargs):\n",
    "\n",
    "        self.use_boxcox = use_boxcox\n",
    "        self.yearly_seasonality = yearly_seasonality\n",
    "        self.weekly_seasonality = weekly_seasonality\n",
    "        self.daily_seasonality = daily_seasonality\n",
    "        self.holidays = holidays\n",
    "        self.country_holidays = country_holidays\n",
    "        self.prophet_config = kwargs\n",
    "        self.models = dict()\n",
    "        self.fcst = dict()\n",
    "        self.lmbda_boxcox = dict()\n",
    "\n",
    "    def fit(self, train_df, regressors=None):\n",
    "        print(\"Fitting...\")\n",
    "        progress_bar = ProgressBar(len(train_df.columns))\n",
    "        for item in train_df.columns:\n",
    "            self.models[item] = Prophet(\n",
    "                yearly_seasonality=self.yearly_seasonality,\n",
    "                weekly_seasonality=self.weekly_seasonality,\n",
    "                daily_seasonality=self.daily_seasonality,\n",
    "                **self.prophet_config)\n",
    "            target = train_df[item].dropna()\n",
    "            if self.use_boxcox:\n",
    "                idx = target.index\n",
    "                target, self.lmbda_boxcox[item] = boxcox(target)\n",
    "                target = pd.Series(target, index=idx)\n",
    "            target.index.name = \"ds\"\n",
    "            target.name = \"y\"\n",
    "            if self.country_holidays is not None:\n",
    "                self.models[item].add_country_holidays(country_name=self.country_holidays)\n",
    "            if regressors is not None:\n",
    "                target = pd.merge(target, regressors, left_index=True, right_index=True, how=\"left\")\n",
    "                for reg in regressors.columns:\n",
    "                    self.models[item].add_regressor(reg)\n",
    "            target = target.reset_index()\n",
    "            self.models[item].fit(target)\n",
    "            progress_bar.update()\n",
    "        progress_bar.finish()\n",
    "        return self.models\n",
    "            \n",
    "    def predict(self, steps, freq=\"D\", regressors=None):\n",
    "        print(\"Forecasting...\")\n",
    "        progress_bar = ProgressBar(len(self.models.items()))\n",
    "        for item, model in self.models.items():\n",
    "            future = model.make_future_dataframe(steps, freq=freq).set_index(\"ds\")\n",
    "            if regressors is not None:\n",
    "                future = pd.merge(future, regressors, left_index=True, right_index=True, how=\"left\")\n",
    "            pred = model.predict(future.reset_index()).set_index(\"ds\")\n",
    "            pred = pred[[\"yhat\", \"yhat_lower\", \"yhat_upper\"]]\n",
    "            self.fcst[item] = pred\n",
    "            if self.use_boxcox:\n",
    "                self.fcst[item] = inv_boxcox(\n",
    "                    self.fcst[item], \n",
    "                    self.lmbda_boxcox[item])\n",
    "            progress_bar.update()\n",
    "        progress_bar.finish()\n",
    "        fcst_df = pd.concat(self.fcst, axis=1).sort_index(axis=1)\n",
    "        return fcst_df\n",
    "\n",
    "class ARIMAForecaster:\n",
    "    def __init__(\n",
    "        self,\n",
    "        use_boxcox=True,\n",
    "        n_fourier_terms=10,\n",
    "        seasonality=[365.25],\n",
    "        confidence_interval=0.8,\n",
    "        **kwargs):\n",
    "        \n",
    "        self.use_boxcox = use_boxcox\n",
    "        self.n_fourier_terms = n_fourier_terms\n",
    "        self.seasonality = seasonality\n",
    "        self.confidence_interval = confidence_interval\n",
    "        self.arima_config = kwargs\n",
    "        self.models = dict()\n",
    "        self.fcst = dict()\n",
    "        self.lmbda_boxcox = dict()\n",
    "\n",
    "    def fit(self, train_df):\n",
    "        self.train_ds = train_df.index\n",
    "        print(\"Fitting...\")\n",
    "        progress_bar = ProgressBar(len(train_df.columns))\n",
    "        for item in train_df.columns:\n",
    "            target = train_df[item].interpolate().bfill()\n",
    "            if self.use_boxcox:\n",
    "                idx = target.index\n",
    "                target, self.lmbda_boxcox[item] = boxcox(target)\n",
    "                target = pd.Series(target, index=idx)\n",
    "            self.models[item] = pm.auto_arima(\n",
    "                target,\n",
    "                seasonal=False,\n",
    "                exogenous=fourier(\n",
    "                    len(target), \n",
    "                    seasonality=self.seasonality, \n",
    "                    n_terms=self.n_fourier_terms), \n",
    "                method=\"bfgs\",\n",
    "                suppress_warnings=True,\n",
    "                **self.arima_config)\n",
    "            progress_bar.update()\n",
    "        progress_bar.finish()\n",
    "        return self.models\n",
    "            \n",
    "    def predict(self, steps):\n",
    "        print(\"Forecasting...\")\n",
    "        progress_bar = ProgressBar(len(self.models.items()))\n",
    "        self.fcst_ds = pd.date_range(\n",
    "            start=self.train_ds.min(), \n",
    "            freq=\"D\", \n",
    "            periods=len(self.train_ds)+steps)[-365:]\n",
    "        for item, model in self.models.items():\n",
    "            pred = model.predict(\n",
    "                exogenous=fourier(\n",
    "                    steps, \n",
    "                    seasonality=self.seasonality, \n",
    "                    n_terms=self.n_fourier_terms),\n",
    "                n_periods=steps, \n",
    "                return_conf_int=True,\n",
    "                alpha=(1.0 - self.confidence_interval))\n",
    "            self.fcst[item] = pd.DataFrame(\n",
    "                {\"yhat\":pred[0],\n",
    "                 \"yhat_lower\":pred[1][:,0],\n",
    "                 \"yhat_upper\":pred[1][:,1]},\n",
    "                index=self.fcst_ds)\n",
    "            if self.use_boxcox:\n",
    "                self.fcst[item] = inv_boxcox(\n",
    "                    self.fcst[item], \n",
    "                    self.lmbda_boxcox[item])\n",
    "            progress_bar.update()\n",
    "        progress_bar.finish()\n",
    "        return pd.concat(self.fcst, axis=1)\n",
    "    \n",
    "def fourier(steps, seasonality, n_terms=10):\n",
    "    coeff_list = []\n",
    "    t = np.arange(0, steps)\n",
    "    for period in seasonality:\n",
    "        coeff_M = np.zeros((steps, 2*n_terms))\n",
    "        for k in range(n_terms):\n",
    "            coeff_M[:, 2*k] = np.sin(2*np.pi*(k+1)*t/period)\n",
    "            coeff_M[:, 2*k+1] = np.cos(2*np.pi*(k+1)*t/period)\n",
    "        coeff_list.append(coeff_M)\n",
    "    coeff = np.concatenate(coeff_list, axis=1)\n",
    "    return coeff"
   ]
  },
  {
   "cell_type": "markdown",
   "metadata": {},
   "source": [
    "# Misc"
   ]
  },
  {
   "cell_type": "code",
   "execution_count": 5,
   "metadata": {},
   "outputs": [],
   "source": [
    "import numpy as np\n",
    "import pandas as pd\n",
    "import matplotlib.pyplot as plt\n",
    "import utils"
   ]
  },
  {
   "cell_type": "code",
   "execution_count": 6,
   "metadata": {},
   "outputs": [],
   "source": [
    "plt.rcParams[\"figure.figsize\"] = (14,4)"
   ]
  },
  {
   "cell_type": "code",
   "execution_count": 7,
   "metadata": {},
   "outputs": [],
   "source": [
    "data = pd.read_csv(\"../data/base_limpia.csv\", parse_dates=[\"tiempo\", \"fecha pedido\", \"fecha liq\"])"
   ]
  },
  {
   "cell_type": "code",
   "execution_count": 9,
   "metadata": {},
   "outputs": [],
   "source": [
    "u_producto = pd.pivot_table(\n",
    "    data, \n",
    "    values=\"u pedidas\", \n",
    "    index=\"tiempo\", \n",
    "    columns=\"producto\", \n",
    "    aggfunc=\"sum\").asfreq(\"D\")"
   ]
  },
  {
   "cell_type": "code",
   "execution_count": 11,
   "metadata": {},
   "outputs": [],
   "source": [
    "u_producto = u_producto.reindex(index=pd.date_range(start=\"2017-01-01\", end=\"2019-12-31\", freq=\"D\"))"
   ]
  },
  {
   "cell_type": "code",
   "execution_count": 13,
   "metadata": {},
   "outputs": [],
   "source": [
    "u_producto_forecastable = utils.get_forecastables(u_producto, T=0.5, N=6)"
   ]
  },
  {
   "cell_type": "code",
   "execution_count": 14,
   "metadata": {},
   "outputs": [],
   "source": [
    "train, test = u_producto_forecastable[:\"2018-12-31\"].copy(), u_producto_forecastable[\"2019-01-01\":].copy()"
   ]
  },
  {
   "cell_type": "code",
   "execution_count": null,
   "metadata": {},
   "outputs": [],
   "source": []
  }
 ],
 "metadata": {
  "kernelspec": {
   "display_name": "Python 3",
   "language": "python",
   "name": "python3"
  },
  "language_info": {
   "codemirror_mode": {
    "name": "ipython",
    "version": 3
   },
   "file_extension": ".py",
   "mimetype": "text/x-python",
   "name": "python",
   "nbconvert_exporter": "python",
   "pygments_lexer": "ipython3",
   "version": "3.7.6"
  }
 },
 "nbformat": 4,
 "nbformat_minor": 4
}
