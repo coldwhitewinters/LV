{
 "cells": [
  {
   "cell_type": "code",
   "execution_count": 4,
   "metadata": {},
   "outputs": [],
   "source": [
    "import numpy as np\n",
    "import pandas as pd\n",
    "import seaborn as sns\n",
    "import matplotlib.pyplot as plt"
   ]
  },
  {
   "cell_type": "code",
   "execution_count": 29,
   "metadata": {},
   "outputs": [],
   "source": [
    "plt.rcParams[\"figure.figsize\"] = (16,4)"
   ]
  },
  {
   "cell_type": "markdown",
   "metadata": {},
   "source": [
    "# Datos"
   ]
  },
  {
   "cell_type": "code",
   "execution_count": 3,
   "metadata": {},
   "outputs": [],
   "source": [
    "#data = pd.read_excel(\"../data/Base.xlsx\", parse_dates=True)"
   ]
  },
  {
   "cell_type": "code",
   "execution_count": 4,
   "metadata": {},
   "outputs": [],
   "source": [
    "#data.to_csv(\"../data/Base.csv\")"
   ]
  },
  {
   "cell_type": "code",
   "execution_count": 14,
   "metadata": {},
   "outputs": [],
   "source": [
    "data = pd.read_csv(\"../data/Base.csv\", parse_dates=[\"Tiempo key\", \"Fecha de pedido\", \"Fecha liq\"])"
   ]
  },
  {
   "cell_type": "code",
   "execution_count": 15,
   "metadata": {},
   "outputs": [],
   "source": [
    "data = data.drop(columns=[\"Unnamed: 0\"])"
   ]
  },
  {
   "cell_type": "code",
   "execution_count": 7,
   "metadata": {},
   "outputs": [
    {
     "data": {
      "text/html": [
       "<div>\n",
       "<style scoped>\n",
       "    .dataframe tbody tr th:only-of-type {\n",
       "        vertical-align: middle;\n",
       "    }\n",
       "\n",
       "    .dataframe tbody tr th {\n",
       "        vertical-align: top;\n",
       "    }\n",
       "\n",
       "    .dataframe thead th {\n",
       "        text-align: right;\n",
       "    }\n",
       "</style>\n",
       "<table border=\"1\" class=\"dataframe\">\n",
       "  <thead>\n",
       "    <tr style=\"text-align: right;\">\n",
       "      <th></th>\n",
       "      <th>Tiempo key</th>\n",
       "      <th>Nro Factura</th>\n",
       "      <th>Cliente</th>\n",
       "      <th>Categoría</th>\n",
       "      <th>Tipo negocio</th>\n",
       "      <th>Localidad</th>\n",
       "      <th>Dirección</th>\n",
       "      <th>Plaza/Campaña</th>\n",
       "      <th>Producto</th>\n",
       "      <th>Nro pedido</th>\n",
       "      <th>...</th>\n",
       "      <th>U pedidas</th>\n",
       "      <th>Kgs pedidos</th>\n",
       "      <th>Fecha liq</th>\n",
       "      <th>U entregadas</th>\n",
       "      <th>Kilos entregados</th>\n",
       "      <th>Importe bruto</th>\n",
       "      <th>Importe factura</th>\n",
       "      <th>Sucursal</th>\n",
       "      <th>Longitud</th>\n",
       "      <th>Latitud</th>\n",
       "    </tr>\n",
       "  </thead>\n",
       "  <tbody>\n",
       "    <tr>\n",
       "      <th>0</th>\n",
       "      <td>2017-05-29</td>\n",
       "      <td>93315173</td>\n",
       "      <td>2000088700000000000</td>\n",
       "      <td>CLIENTE A5</td>\n",
       "      <td>MAYORISTA</td>\n",
       "      <td>SANTA FE</td>\n",
       "      <td>AV DEL VALLE 7199</td>\n",
       "      <td>PLAZA</td>\n",
       "      <td>907460001001</td>\n",
       "      <td>2736812</td>\n",
       "      <td>...</td>\n",
       "      <td>1</td>\n",
       "      <td>1.250</td>\n",
       "      <td>2017-05-29</td>\n",
       "      <td>1</td>\n",
       "      <td>1.250</td>\n",
       "      <td>231.70</td>\n",
       "      <td>12421.88</td>\n",
       "      <td>SANTA FE</td>\n",
       "      <td>-60.691979</td>\n",
       "      <td>-31.602638</td>\n",
       "    </tr>\n",
       "    <tr>\n",
       "      <th>1</th>\n",
       "      <td>2017-06-14</td>\n",
       "      <td>93368453</td>\n",
       "      <td>2000088700000000000</td>\n",
       "      <td>CLIENTE A5</td>\n",
       "      <td>MAYORISTA</td>\n",
       "      <td>SANTA FE</td>\n",
       "      <td>AV DEL VALLE 7199</td>\n",
       "      <td>PLAZA</td>\n",
       "      <td>907460001001</td>\n",
       "      <td>2765668</td>\n",
       "      <td>...</td>\n",
       "      <td>1</td>\n",
       "      <td>1.250</td>\n",
       "      <td>2017-06-14</td>\n",
       "      <td>1</td>\n",
       "      <td>1.250</td>\n",
       "      <td>231.70</td>\n",
       "      <td>19944.84</td>\n",
       "      <td>SANTA FE</td>\n",
       "      <td>-60.691979</td>\n",
       "      <td>-31.602638</td>\n",
       "    </tr>\n",
       "    <tr>\n",
       "      <th>2</th>\n",
       "      <td>2017-02-21</td>\n",
       "      <td>93074208</td>\n",
       "      <td>2000088890000000000</td>\n",
       "      <td>CLIENTE A3</td>\n",
       "      <td>SUPERMERCADO</td>\n",
       "      <td>SANTA FE</td>\n",
       "      <td>GRAL.PAZ 5374</td>\n",
       "      <td>PLAZA</td>\n",
       "      <td>907400001001</td>\n",
       "      <td>2546672</td>\n",
       "      <td>...</td>\n",
       "      <td>2</td>\n",
       "      <td>1.464</td>\n",
       "      <td>2017-02-21</td>\n",
       "      <td>2</td>\n",
       "      <td>1.464</td>\n",
       "      <td>324.96</td>\n",
       "      <td>24534.07</td>\n",
       "      <td>SANTA FE</td>\n",
       "      <td>-60.686356</td>\n",
       "      <td>-31.620964</td>\n",
       "    </tr>\n",
       "    <tr>\n",
       "      <th>3</th>\n",
       "      <td>2017-05-11</td>\n",
       "      <td>93270490</td>\n",
       "      <td>2000088890000000000</td>\n",
       "      <td>CLIENTE A3</td>\n",
       "      <td>SUPERMERCADO</td>\n",
       "      <td>SANTA FE</td>\n",
       "      <td>GRAL.PAZ 5374</td>\n",
       "      <td>PLAZA</td>\n",
       "      <td>907460001001</td>\n",
       "      <td>2702464</td>\n",
       "      <td>...</td>\n",
       "      <td>1</td>\n",
       "      <td>1.250</td>\n",
       "      <td>2017-05-11</td>\n",
       "      <td>1</td>\n",
       "      <td>1.250</td>\n",
       "      <td>231.70</td>\n",
       "      <td>27204.63</td>\n",
       "      <td>SANTA FE</td>\n",
       "      <td>-60.686356</td>\n",
       "      <td>-31.620964</td>\n",
       "    </tr>\n",
       "    <tr>\n",
       "      <th>4</th>\n",
       "      <td>2017-05-24</td>\n",
       "      <td>93309184</td>\n",
       "      <td>2000088890000000000</td>\n",
       "      <td>CLIENTE A3</td>\n",
       "      <td>SUPERMERCADO</td>\n",
       "      <td>SANTA FE</td>\n",
       "      <td>GRAL.PAZ 5374</td>\n",
       "      <td>PLAZA</td>\n",
       "      <td>907460001001</td>\n",
       "      <td>2732609</td>\n",
       "      <td>...</td>\n",
       "      <td>1</td>\n",
       "      <td>1.250</td>\n",
       "      <td>2017-05-24</td>\n",
       "      <td>1</td>\n",
       "      <td>1.250</td>\n",
       "      <td>231.70</td>\n",
       "      <td>16573.12</td>\n",
       "      <td>SANTA FE</td>\n",
       "      <td>-60.686356</td>\n",
       "      <td>-31.620964</td>\n",
       "    </tr>\n",
       "  </tbody>\n",
       "</table>\n",
       "<p>5 rows × 21 columns</p>\n",
       "</div>"
      ],
      "text/plain": [
       "  Tiempo key  Nro Factura             Cliente   Categoría   \\\n",
       "0 2017-05-29     93315173  2000088700000000000  CLIENTE A5   \n",
       "1 2017-06-14     93368453  2000088700000000000  CLIENTE A5   \n",
       "2 2017-02-21     93074208  2000088890000000000  CLIENTE A3   \n",
       "3 2017-05-11     93270490  2000088890000000000  CLIENTE A3   \n",
       "4 2017-05-24     93309184  2000088890000000000  CLIENTE A3   \n",
       "\n",
       "           Tipo negocio                       Localidad  \\\n",
       "0  MAYORISTA             SANTA FE                         \n",
       "1  MAYORISTA             SANTA FE                         \n",
       "2  SUPERMERCADO          SANTA FE                         \n",
       "3  SUPERMERCADO          SANTA FE                         \n",
       "4  SUPERMERCADO          SANTA FE                         \n",
       "\n",
       "                             Dirección Plaza/Campaña      Producto  \\\n",
       "0  AV DEL VALLE 7199                      PLAZA       907460001001   \n",
       "1  AV DEL VALLE 7199                      PLAZA       907460001001   \n",
       "2  GRAL.PAZ 5374                          PLAZA       907400001001   \n",
       "3  GRAL.PAZ 5374                          PLAZA       907460001001   \n",
       "4  GRAL.PAZ 5374                          PLAZA       907460001001   \n",
       "\n",
       "   Nro pedido  ... U pedidas  Kgs pedidos  Fecha liq U entregadas  \\\n",
       "0     2736812  ...         1        1.250 2017-05-29            1   \n",
       "1     2765668  ...         1        1.250 2017-06-14            1   \n",
       "2     2546672  ...         2        1.464 2017-02-21            2   \n",
       "3     2702464  ...         1        1.250 2017-05-11            1   \n",
       "4     2732609  ...         1        1.250 2017-05-24            1   \n",
       "\n",
       "   Kilos entregados  Importe bruto  Importe factura  Sucursal   Longitud  \\\n",
       "0             1.250         231.70         12421.88  SANTA FE -60.691979   \n",
       "1             1.250         231.70         19944.84  SANTA FE -60.691979   \n",
       "2             1.464         324.96         24534.07  SANTA FE -60.686356   \n",
       "3             1.250         231.70         27204.63  SANTA FE -60.686356   \n",
       "4             1.250         231.70         16573.12  SANTA FE -60.686356   \n",
       "\n",
       "     Latitud  \n",
       "0 -31.602638  \n",
       "1 -31.602638  \n",
       "2 -31.620964  \n",
       "3 -31.620964  \n",
       "4 -31.620964  \n",
       "\n",
       "[5 rows x 21 columns]"
      ]
     },
     "execution_count": 7,
     "metadata": {},
     "output_type": "execute_result"
    }
   ],
   "source": [
    "data.head()"
   ]
  },
  {
   "cell_type": "code",
   "execution_count": 8,
   "metadata": {},
   "outputs": [
    {
     "data": {
      "text/plain": [
       "Index(['Tiempo key', 'Nro Factura', 'Cliente ', 'Categoría ', 'Tipo negocio',\n",
       "       'Localidad', 'Dirección', 'Plaza/Campaña', 'Producto', 'Nro pedido',\n",
       "       'Fecha de pedido', 'U pedidas', 'Kgs pedidos', 'Fecha liq',\n",
       "       'U entregadas', 'Kilos entregados', 'Importe bruto', 'Importe factura',\n",
       "       'Sucursal', 'Longitud', 'Latitud'],\n",
       "      dtype='object')"
      ]
     },
     "execution_count": 8,
     "metadata": {},
     "output_type": "execute_result"
    }
   ],
   "source": [
    "data.columns"
   ]
  },
  {
   "cell_type": "code",
   "execution_count": 9,
   "metadata": {},
   "outputs": [],
   "source": [
    "data.columns = ['tiempo', 'nro factura', 'cliente', 'categoria', 'tipo negocio', \n",
    "                'localidad', 'direccion', 'plaza/campaña', 'producto', 'nro pedido',\n",
    "                'fecha pedido', 'u pedidas', 'kg pedidos', 'fecha liq', 'u entregadas', \n",
    "                'kg entregados', 'importe bruto', 'importe factura', 'sucursal', 'longitud', 'latitud']"
   ]
  },
  {
   "cell_type": "code",
   "execution_count": 10,
   "metadata": {},
   "outputs": [
    {
     "name": "stdout",
     "output_type": "stream",
     "text": [
      "<class 'pandas.core.frame.DataFrame'>\n",
      "RangeIndex: 301579 entries, 0 to 301578\n",
      "Data columns (total 21 columns):\n",
      " #   Column           Non-Null Count   Dtype         \n",
      "---  ------           --------------   -----         \n",
      " 0   tiempo           301579 non-null  datetime64[ns]\n",
      " 1   nro factura      301579 non-null  int64         \n",
      " 2   cliente          301579 non-null  int64         \n",
      " 3   categoria        301579 non-null  object        \n",
      " 4   tipo negocio     301579 non-null  object        \n",
      " 5   localidad        301579 non-null  object        \n",
      " 6   direccion        301579 non-null  object        \n",
      " 7   plaza/campaña    301579 non-null  object        \n",
      " 8   producto         301579 non-null  int64         \n",
      " 9   nro pedido       301579 non-null  int64         \n",
      " 10  fecha pedido     301579 non-null  datetime64[ns]\n",
      " 11  u pedidas        301579 non-null  int64         \n",
      " 12  kg pedidos       301579 non-null  float64       \n",
      " 13  fecha liq        301579 non-null  datetime64[ns]\n",
      " 14  u entregadas     301579 non-null  int64         \n",
      " 15  kg entregados    301579 non-null  float64       \n",
      " 16  importe bruto    301579 non-null  float64       \n",
      " 17  importe factura  301579 non-null  float64       \n",
      " 18  sucursal         301579 non-null  object        \n",
      " 19  longitud         289952 non-null  float64       \n",
      " 20  latitud          289952 non-null  float64       \n",
      "dtypes: datetime64[ns](3), float64(6), int64(6), object(6)\n",
      "memory usage: 48.3+ MB\n"
     ]
    }
   ],
   "source": [
    "data.info()"
   ]
  },
  {
   "cell_type": "markdown",
   "metadata": {},
   "source": [
    "Convertir strings a lowercase y sacarles trailing whitespace."
   ]
  },
  {
   "cell_type": "code",
   "execution_count": 11,
   "metadata": {},
   "outputs": [],
   "source": [
    "data.loc[:, data.select_dtypes(\"object\").columns] = data.loc[:, data.select_dtypes(\"object\").columns].applymap(str.lower)\n",
    "data.loc[:, data.select_dtypes(\"object\").columns] = data.loc[:, data.select_dtypes(\"object\").columns].applymap(str.strip)"
   ]
  },
  {
   "cell_type": "code",
   "execution_count": 12,
   "metadata": {},
   "outputs": [
    {
     "data": {
      "text/html": [
       "<div>\n",
       "<style scoped>\n",
       "    .dataframe tbody tr th:only-of-type {\n",
       "        vertical-align: middle;\n",
       "    }\n",
       "\n",
       "    .dataframe tbody tr th {\n",
       "        vertical-align: top;\n",
       "    }\n",
       "\n",
       "    .dataframe thead th {\n",
       "        text-align: right;\n",
       "    }\n",
       "</style>\n",
       "<table border=\"1\" class=\"dataframe\">\n",
       "  <thead>\n",
       "    <tr style=\"text-align: right;\">\n",
       "      <th></th>\n",
       "      <th>categoria</th>\n",
       "      <th>tipo negocio</th>\n",
       "      <th>localidad</th>\n",
       "      <th>direccion</th>\n",
       "      <th>plaza/campaña</th>\n",
       "      <th>sucursal</th>\n",
       "    </tr>\n",
       "  </thead>\n",
       "  <tbody>\n",
       "    <tr>\n",
       "      <th>0</th>\n",
       "      <td>cliente a5</td>\n",
       "      <td>mayorista</td>\n",
       "      <td>santa fe</td>\n",
       "      <td>av del valle 7199</td>\n",
       "      <td>plaza</td>\n",
       "      <td>santa fe</td>\n",
       "    </tr>\n",
       "    <tr>\n",
       "      <th>1</th>\n",
       "      <td>cliente a5</td>\n",
       "      <td>mayorista</td>\n",
       "      <td>santa fe</td>\n",
       "      <td>av del valle 7199</td>\n",
       "      <td>plaza</td>\n",
       "      <td>santa fe</td>\n",
       "    </tr>\n",
       "    <tr>\n",
       "      <th>2</th>\n",
       "      <td>cliente a3</td>\n",
       "      <td>supermercado</td>\n",
       "      <td>santa fe</td>\n",
       "      <td>gral.paz 5374</td>\n",
       "      <td>plaza</td>\n",
       "      <td>santa fe</td>\n",
       "    </tr>\n",
       "    <tr>\n",
       "      <th>3</th>\n",
       "      <td>cliente a3</td>\n",
       "      <td>supermercado</td>\n",
       "      <td>santa fe</td>\n",
       "      <td>gral.paz 5374</td>\n",
       "      <td>plaza</td>\n",
       "      <td>santa fe</td>\n",
       "    </tr>\n",
       "    <tr>\n",
       "      <th>4</th>\n",
       "      <td>cliente a3</td>\n",
       "      <td>supermercado</td>\n",
       "      <td>santa fe</td>\n",
       "      <td>gral.paz 5374</td>\n",
       "      <td>plaza</td>\n",
       "      <td>santa fe</td>\n",
       "    </tr>\n",
       "  </tbody>\n",
       "</table>\n",
       "</div>"
      ],
      "text/plain": [
       "    categoria  tipo negocio localidad          direccion plaza/campaña  \\\n",
       "0  cliente a5     mayorista  santa fe  av del valle 7199         plaza   \n",
       "1  cliente a5     mayorista  santa fe  av del valle 7199         plaza   \n",
       "2  cliente a3  supermercado  santa fe      gral.paz 5374         plaza   \n",
       "3  cliente a3  supermercado  santa fe      gral.paz 5374         plaza   \n",
       "4  cliente a3  supermercado  santa fe      gral.paz 5374         plaza   \n",
       "\n",
       "   sucursal  \n",
       "0  santa fe  \n",
       "1  santa fe  \n",
       "2  santa fe  \n",
       "3  santa fe  \n",
       "4  santa fe  "
      ]
     },
     "execution_count": 12,
     "metadata": {},
     "output_type": "execute_result"
    }
   ],
   "source": [
    "data.loc[:, data.select_dtypes(\"object\").columns].head()"
   ]
  },
  {
   "cell_type": "markdown",
   "metadata": {},
   "source": [
    "Remover ceros innecesarios en cliente."
   ]
  },
  {
   "cell_type": "code",
   "execution_count": 13,
   "metadata": {},
   "outputs": [],
   "source": [
    "data.cliente = data.cliente // 1e10"
   ]
  },
  {
   "cell_type": "code",
   "execution_count": 14,
   "metadata": {},
   "outputs": [
    {
     "data": {
      "text/plain": [
       "0    200008870\n",
       "1    200008870\n",
       "2    200008889\n",
       "3    200008889\n",
       "4    200008889\n",
       "Name: cliente, dtype: int64"
      ]
     },
     "execution_count": 14,
     "metadata": {},
     "output_type": "execute_result"
    }
   ],
   "source": [
    "data.cliente.head()"
   ]
  },
  {
   "cell_type": "markdown",
   "metadata": {},
   "source": [
    "Limpiar categorías."
   ]
  },
  {
   "cell_type": "code",
   "execution_count": 15,
   "metadata": {},
   "outputs": [],
   "source": [
    "data.categoria = data.categoria.str.replace(\"cliente \", \"\")\n",
    "data.loc[data.categoria == \"sin categoria\", \"categoria\"] = \"sc\"\n",
    "data.loc[data.categoria == \"z - cnt\", \"categoria\"] = \"cnt\"\n",
    "data.loc[data.categoria == \"z - horeca\", \"categoria\"] = \"horeca\""
   ]
  },
  {
   "cell_type": "code",
   "execution_count": 16,
   "metadata": {},
   "outputs": [
    {
     "data": {
      "text/plain": [
       "array(['a5', 'a3', 'sc', 'a6', 'a7', 'a4', 'cnt', 'horeca', 'a1', 'a2',\n",
       "       'a0'], dtype=object)"
      ]
     },
     "execution_count": 16,
     "metadata": {},
     "output_type": "execute_result"
    }
   ],
   "source": [
    "data.categoria.unique()"
   ]
  },
  {
   "cell_type": "markdown",
   "metadata": {},
   "source": [
    "Corregir algunos nombres en columna \"tipo negocio\"."
   ]
  },
  {
   "cell_type": "code",
   "execution_count": 17,
   "metadata": {},
   "outputs": [],
   "source": [
    "data.loc[data[\"tipo negocio\"] == \"otros tipos de clien\", \"tipo negocio\"] = \"otros\"\n",
    "data.loc[data[\"tipo negocio\"] == \"autoservicio amarill\", \"tipo negocio\"] = \"autoservicio amarillo\"\n",
    "data.loc[data[\"tipo negocio\"] == \"centros de distribuc\", \"tipo negocio\"] = \"distribucion\""
   ]
  },
  {
   "cell_type": "code",
   "execution_count": 18,
   "metadata": {},
   "outputs": [
    {
     "data": {
      "text/plain": [
       "array(['mayorista', 'supermercado', 'tradicional', 'autoservicio',\n",
       "       'otros', 'autoservicio amarillo', 'oficinas', 'institucional',\n",
       "       'fabricas de alimento', 'kioscos', 'bar publico', 'hipermercado',\n",
       "       'distribucion', 'gran cadena nacional', 'bar cautivo',\n",
       "       'red de compras'], dtype=object)"
      ]
     },
     "execution_count": 18,
     "metadata": {},
     "output_type": "execute_result"
    }
   ],
   "source": [
    "data[\"tipo negocio\"].unique()"
   ]
  },
  {
   "cell_type": "markdown",
   "metadata": {},
   "source": [
    "Del producto nos interesan solo los primeros cinco números."
   ]
  },
  {
   "cell_type": "code",
   "execution_count": 19,
   "metadata": {},
   "outputs": [],
   "source": [
    "data.producto = data.producto // 1e7\n",
    "data.producto = data.producto.astype(\"int64\")"
   ]
  },
  {
   "cell_type": "code",
   "execution_count": 20,
   "metadata": {},
   "outputs": [
    {
     "data": {
      "text/plain": [
       "array([90746, 90740, 90745, 90739, 44091, 44109, 44143, 44146, 44119,\n",
       "       44105, 44115, 44087, 44090, 44145, 44118, 44140, 44137, 44088,\n",
       "       44108, 44116, 44106, 16071, 16100, 16061, 16070, 16091, 16090,\n",
       "       16081, 16110, 16062, 16101, 16086, 16080, 16087, 44136, 16105,\n",
       "       16077, 16076, 16075, 44139, 44144, 44138, 44142, 16106, 16034,\n",
       "       44149, 44158, 44155, 44148, 44150, 44152, 44151, 44154, 44157,\n",
       "       16120, 16115, 16111, 16121, 16116, 16131, 16136, 16130, 16135,\n",
       "       44147], dtype=int64)"
      ]
     },
     "execution_count": 20,
     "metadata": {},
     "output_type": "execute_result"
    }
   ],
   "source": [
    "data.producto.unique()"
   ]
  },
  {
   "cell_type": "markdown",
   "metadata": {},
   "source": [
    "Revisamos en busca de NA"
   ]
  },
  {
   "cell_type": "code",
   "execution_count": 21,
   "metadata": {},
   "outputs": [
    {
     "data": {
      "text/plain": [
       "tiempo                 0\n",
       "nro factura            0\n",
       "cliente                0\n",
       "categoria              0\n",
       "tipo negocio           0\n",
       "localidad              0\n",
       "direccion              0\n",
       "plaza/campaña          0\n",
       "producto               0\n",
       "nro pedido             0\n",
       "fecha pedido           0\n",
       "u pedidas              0\n",
       "kg pedidos             0\n",
       "fecha liq              0\n",
       "u entregadas           0\n",
       "kg entregados          0\n",
       "importe bruto          0\n",
       "importe factura        0\n",
       "sucursal               0\n",
       "longitud           11627\n",
       "latitud            11627\n",
       "dtype: int64"
      ]
     },
     "execution_count": 21,
     "metadata": {},
     "output_type": "execute_result"
    }
   ],
   "source": [
    "data.isna().sum()"
   ]
  },
  {
   "cell_type": "markdown",
   "metadata": {},
   "source": [
    "Hay muchas observaciones sin coordenadas GPS. El resto no tiene problemas."
   ]
  },
  {
   "cell_type": "markdown",
   "metadata": {},
   "source": [
    "Buscamos duplicados"
   ]
  },
  {
   "cell_type": "code",
   "execution_count": 22,
   "metadata": {},
   "outputs": [
    {
     "data": {
      "text/plain": [
       "185"
      ]
     },
     "execution_count": 22,
     "metadata": {},
     "output_type": "execute_result"
    }
   ],
   "source": [
    "data.duplicated().sum()"
   ]
  },
  {
   "cell_type": "code",
   "execution_count": 23,
   "metadata": {},
   "outputs": [
    {
     "data": {
      "text/html": [
       "<div>\n",
       "<style scoped>\n",
       "    .dataframe tbody tr th:only-of-type {\n",
       "        vertical-align: middle;\n",
       "    }\n",
       "\n",
       "    .dataframe tbody tr th {\n",
       "        vertical-align: top;\n",
       "    }\n",
       "\n",
       "    .dataframe thead th {\n",
       "        text-align: right;\n",
       "    }\n",
       "</style>\n",
       "<table border=\"1\" class=\"dataframe\">\n",
       "  <thead>\n",
       "    <tr style=\"text-align: right;\">\n",
       "      <th></th>\n",
       "      <th>tiempo</th>\n",
       "      <th>nro factura</th>\n",
       "      <th>cliente</th>\n",
       "      <th>categoria</th>\n",
       "      <th>tipo negocio</th>\n",
       "      <th>localidad</th>\n",
       "      <th>direccion</th>\n",
       "      <th>plaza/campaña</th>\n",
       "      <th>producto</th>\n",
       "      <th>nro pedido</th>\n",
       "      <th>...</th>\n",
       "      <th>u pedidas</th>\n",
       "      <th>kg pedidos</th>\n",
       "      <th>fecha liq</th>\n",
       "      <th>u entregadas</th>\n",
       "      <th>kg entregados</th>\n",
       "      <th>importe bruto</th>\n",
       "      <th>importe factura</th>\n",
       "      <th>sucursal</th>\n",
       "      <th>longitud</th>\n",
       "      <th>latitud</th>\n",
       "    </tr>\n",
       "  </thead>\n",
       "  <tbody>\n",
       "    <tr>\n",
       "      <th>126867</th>\n",
       "      <td>2018-07-14</td>\n",
       "      <td>94349291</td>\n",
       "      <td>200054589</td>\n",
       "      <td>a2</td>\n",
       "      <td>supermercado</td>\n",
       "      <td>general roca</td>\n",
       "      <td>chula vista 831</td>\n",
       "      <td>plaza</td>\n",
       "      <td>16062</td>\n",
       "      <td>3516318</td>\n",
       "      <td>...</td>\n",
       "      <td>5</td>\n",
       "      <td>6.25</td>\n",
       "      <td>2018-07-14</td>\n",
       "      <td>5</td>\n",
       "      <td>6.25</td>\n",
       "      <td>2209.00</td>\n",
       "      <td>84275.28</td>\n",
       "      <td>neuquen</td>\n",
       "      <td>-67.583995</td>\n",
       "      <td>-39.043247</td>\n",
       "    </tr>\n",
       "    <tr>\n",
       "      <th>126868</th>\n",
       "      <td>2018-07-14</td>\n",
       "      <td>94349291</td>\n",
       "      <td>200054589</td>\n",
       "      <td>a2</td>\n",
       "      <td>supermercado</td>\n",
       "      <td>general roca</td>\n",
       "      <td>chula vista 831</td>\n",
       "      <td>plaza</td>\n",
       "      <td>16062</td>\n",
       "      <td>3516318</td>\n",
       "      <td>...</td>\n",
       "      <td>5</td>\n",
       "      <td>6.25</td>\n",
       "      <td>2018-07-14</td>\n",
       "      <td>5</td>\n",
       "      <td>6.25</td>\n",
       "      <td>2209.00</td>\n",
       "      <td>84275.28</td>\n",
       "      <td>neuquen</td>\n",
       "      <td>-67.583995</td>\n",
       "      <td>-39.043247</td>\n",
       "    </tr>\n",
       "    <tr>\n",
       "      <th>126869</th>\n",
       "      <td>2018-07-14</td>\n",
       "      <td>94349291</td>\n",
       "      <td>200054589</td>\n",
       "      <td>a2</td>\n",
       "      <td>supermercado</td>\n",
       "      <td>general roca</td>\n",
       "      <td>chula vista 831</td>\n",
       "      <td>plaza</td>\n",
       "      <td>16062</td>\n",
       "      <td>3516318</td>\n",
       "      <td>...</td>\n",
       "      <td>5</td>\n",
       "      <td>6.25</td>\n",
       "      <td>2018-07-14</td>\n",
       "      <td>5</td>\n",
       "      <td>6.25</td>\n",
       "      <td>2209.00</td>\n",
       "      <td>84275.28</td>\n",
       "      <td>neuquen</td>\n",
       "      <td>-67.583995</td>\n",
       "      <td>-39.043247</td>\n",
       "    </tr>\n",
       "    <tr>\n",
       "      <th>136807</th>\n",
       "      <td>2018-09-08</td>\n",
       "      <td>94505805</td>\n",
       "      <td>200087840</td>\n",
       "      <td>sc</td>\n",
       "      <td>autoservicio amarillo</td>\n",
       "      <td>coronda</td>\n",
       "      <td>lisandro de la torre 1895</td>\n",
       "      <td>campaña</td>\n",
       "      <td>16061</td>\n",
       "      <td>3617902</td>\n",
       "      <td>...</td>\n",
       "      <td>6</td>\n",
       "      <td>0.75</td>\n",
       "      <td>2018-09-08</td>\n",
       "      <td>6</td>\n",
       "      <td>0.75</td>\n",
       "      <td>283.62</td>\n",
       "      <td>9698.08</td>\n",
       "      <td>santa fe</td>\n",
       "      <td>-60.926965</td>\n",
       "      <td>-31.974712</td>\n",
       "    </tr>\n",
       "    <tr>\n",
       "      <th>136809</th>\n",
       "      <td>2018-09-08</td>\n",
       "      <td>94505805</td>\n",
       "      <td>200087840</td>\n",
       "      <td>sc</td>\n",
       "      <td>autoservicio amarillo</td>\n",
       "      <td>coronda</td>\n",
       "      <td>lisandro de la torre 1895</td>\n",
       "      <td>campaña</td>\n",
       "      <td>16071</td>\n",
       "      <td>3617902</td>\n",
       "      <td>...</td>\n",
       "      <td>1</td>\n",
       "      <td>1.25</td>\n",
       "      <td>2018-09-08</td>\n",
       "      <td>1</td>\n",
       "      <td>1.25</td>\n",
       "      <td>326.00</td>\n",
       "      <td>9698.08</td>\n",
       "      <td>santa fe</td>\n",
       "      <td>-60.926965</td>\n",
       "      <td>-31.974712</td>\n",
       "    </tr>\n",
       "  </tbody>\n",
       "</table>\n",
       "<p>5 rows × 21 columns</p>\n",
       "</div>"
      ],
      "text/plain": [
       "           tiempo  nro factura    cliente categoria           tipo negocio  \\\n",
       "126867 2018-07-14     94349291  200054589        a2           supermercado   \n",
       "126868 2018-07-14     94349291  200054589        a2           supermercado   \n",
       "126869 2018-07-14     94349291  200054589        a2           supermercado   \n",
       "136807 2018-09-08     94505805  200087840        sc  autoservicio amarillo   \n",
       "136809 2018-09-08     94505805  200087840        sc  autoservicio amarillo   \n",
       "\n",
       "           localidad                  direccion plaza/campaña  producto  \\\n",
       "126867  general roca            chula vista 831         plaza     16062   \n",
       "126868  general roca            chula vista 831         plaza     16062   \n",
       "126869  general roca            chula vista 831         plaza     16062   \n",
       "136807       coronda  lisandro de la torre 1895       campaña     16061   \n",
       "136809       coronda  lisandro de la torre 1895       campaña     16071   \n",
       "\n",
       "        nro pedido  ... u pedidas  kg pedidos  fecha liq u entregadas  \\\n",
       "126867     3516318  ...         5        6.25 2018-07-14            5   \n",
       "126868     3516318  ...         5        6.25 2018-07-14            5   \n",
       "126869     3516318  ...         5        6.25 2018-07-14            5   \n",
       "136807     3617902  ...         6        0.75 2018-09-08            6   \n",
       "136809     3617902  ...         1        1.25 2018-09-08            1   \n",
       "\n",
       "        kg entregados  importe bruto  importe factura  sucursal   longitud  \\\n",
       "126867           6.25        2209.00         84275.28   neuquen -67.583995   \n",
       "126868           6.25        2209.00         84275.28   neuquen -67.583995   \n",
       "126869           6.25        2209.00         84275.28   neuquen -67.583995   \n",
       "136807           0.75         283.62          9698.08  santa fe -60.926965   \n",
       "136809           1.25         326.00          9698.08  santa fe -60.926965   \n",
       "\n",
       "          latitud  \n",
       "126867 -39.043247  \n",
       "126868 -39.043247  \n",
       "126869 -39.043247  \n",
       "136807 -31.974712  \n",
       "136809 -31.974712  \n",
       "\n",
       "[5 rows x 21 columns]"
      ]
     },
     "execution_count": 23,
     "metadata": {},
     "output_type": "execute_result"
    }
   ],
   "source": [
    "data[data.duplicated()].head()"
   ]
  },
  {
   "cell_type": "markdown",
   "metadata": {},
   "source": [
    "Tiramos los duplicados."
   ]
  },
  {
   "cell_type": "code",
   "execution_count": 24,
   "metadata": {},
   "outputs": [],
   "source": [
    "data = data.drop_duplicates()"
   ]
  },
  {
   "cell_type": "markdown",
   "metadata": {},
   "source": [
    "Resultado"
   ]
  },
  {
   "cell_type": "code",
   "execution_count": 25,
   "metadata": {},
   "outputs": [
    {
     "data": {
      "text/html": [
       "<div>\n",
       "<style scoped>\n",
       "    .dataframe tbody tr th:only-of-type {\n",
       "        vertical-align: middle;\n",
       "    }\n",
       "\n",
       "    .dataframe tbody tr th {\n",
       "        vertical-align: top;\n",
       "    }\n",
       "\n",
       "    .dataframe thead th {\n",
       "        text-align: right;\n",
       "    }\n",
       "</style>\n",
       "<table border=\"1\" class=\"dataframe\">\n",
       "  <thead>\n",
       "    <tr style=\"text-align: right;\">\n",
       "      <th></th>\n",
       "      <th>tiempo</th>\n",
       "      <th>nro factura</th>\n",
       "      <th>cliente</th>\n",
       "      <th>categoria</th>\n",
       "      <th>tipo negocio</th>\n",
       "      <th>localidad</th>\n",
       "      <th>direccion</th>\n",
       "      <th>plaza/campaña</th>\n",
       "      <th>producto</th>\n",
       "      <th>nro pedido</th>\n",
       "      <th>...</th>\n",
       "      <th>u pedidas</th>\n",
       "      <th>kg pedidos</th>\n",
       "      <th>fecha liq</th>\n",
       "      <th>u entregadas</th>\n",
       "      <th>kg entregados</th>\n",
       "      <th>importe bruto</th>\n",
       "      <th>importe factura</th>\n",
       "      <th>sucursal</th>\n",
       "      <th>longitud</th>\n",
       "      <th>latitud</th>\n",
       "    </tr>\n",
       "  </thead>\n",
       "  <tbody>\n",
       "    <tr>\n",
       "      <th>0</th>\n",
       "      <td>2017-05-29</td>\n",
       "      <td>93315173</td>\n",
       "      <td>200008870</td>\n",
       "      <td>a5</td>\n",
       "      <td>mayorista</td>\n",
       "      <td>santa fe</td>\n",
       "      <td>av del valle 7199</td>\n",
       "      <td>plaza</td>\n",
       "      <td>90746</td>\n",
       "      <td>2736812</td>\n",
       "      <td>...</td>\n",
       "      <td>1</td>\n",
       "      <td>1.250</td>\n",
       "      <td>2017-05-29</td>\n",
       "      <td>1</td>\n",
       "      <td>1.250</td>\n",
       "      <td>231.70</td>\n",
       "      <td>12421.88</td>\n",
       "      <td>santa fe</td>\n",
       "      <td>-60.691979</td>\n",
       "      <td>-31.602638</td>\n",
       "    </tr>\n",
       "    <tr>\n",
       "      <th>1</th>\n",
       "      <td>2017-06-14</td>\n",
       "      <td>93368453</td>\n",
       "      <td>200008870</td>\n",
       "      <td>a5</td>\n",
       "      <td>mayorista</td>\n",
       "      <td>santa fe</td>\n",
       "      <td>av del valle 7199</td>\n",
       "      <td>plaza</td>\n",
       "      <td>90746</td>\n",
       "      <td>2765668</td>\n",
       "      <td>...</td>\n",
       "      <td>1</td>\n",
       "      <td>1.250</td>\n",
       "      <td>2017-06-14</td>\n",
       "      <td>1</td>\n",
       "      <td>1.250</td>\n",
       "      <td>231.70</td>\n",
       "      <td>19944.84</td>\n",
       "      <td>santa fe</td>\n",
       "      <td>-60.691979</td>\n",
       "      <td>-31.602638</td>\n",
       "    </tr>\n",
       "    <tr>\n",
       "      <th>2</th>\n",
       "      <td>2017-02-21</td>\n",
       "      <td>93074208</td>\n",
       "      <td>200008889</td>\n",
       "      <td>a3</td>\n",
       "      <td>supermercado</td>\n",
       "      <td>santa fe</td>\n",
       "      <td>gral.paz 5374</td>\n",
       "      <td>plaza</td>\n",
       "      <td>90740</td>\n",
       "      <td>2546672</td>\n",
       "      <td>...</td>\n",
       "      <td>2</td>\n",
       "      <td>1.464</td>\n",
       "      <td>2017-02-21</td>\n",
       "      <td>2</td>\n",
       "      <td>1.464</td>\n",
       "      <td>324.96</td>\n",
       "      <td>24534.07</td>\n",
       "      <td>santa fe</td>\n",
       "      <td>-60.686356</td>\n",
       "      <td>-31.620964</td>\n",
       "    </tr>\n",
       "    <tr>\n",
       "      <th>3</th>\n",
       "      <td>2017-05-11</td>\n",
       "      <td>93270490</td>\n",
       "      <td>200008889</td>\n",
       "      <td>a3</td>\n",
       "      <td>supermercado</td>\n",
       "      <td>santa fe</td>\n",
       "      <td>gral.paz 5374</td>\n",
       "      <td>plaza</td>\n",
       "      <td>90746</td>\n",
       "      <td>2702464</td>\n",
       "      <td>...</td>\n",
       "      <td>1</td>\n",
       "      <td>1.250</td>\n",
       "      <td>2017-05-11</td>\n",
       "      <td>1</td>\n",
       "      <td>1.250</td>\n",
       "      <td>231.70</td>\n",
       "      <td>27204.63</td>\n",
       "      <td>santa fe</td>\n",
       "      <td>-60.686356</td>\n",
       "      <td>-31.620964</td>\n",
       "    </tr>\n",
       "    <tr>\n",
       "      <th>4</th>\n",
       "      <td>2017-05-24</td>\n",
       "      <td>93309184</td>\n",
       "      <td>200008889</td>\n",
       "      <td>a3</td>\n",
       "      <td>supermercado</td>\n",
       "      <td>santa fe</td>\n",
       "      <td>gral.paz 5374</td>\n",
       "      <td>plaza</td>\n",
       "      <td>90746</td>\n",
       "      <td>2732609</td>\n",
       "      <td>...</td>\n",
       "      <td>1</td>\n",
       "      <td>1.250</td>\n",
       "      <td>2017-05-24</td>\n",
       "      <td>1</td>\n",
       "      <td>1.250</td>\n",
       "      <td>231.70</td>\n",
       "      <td>16573.12</td>\n",
       "      <td>santa fe</td>\n",
       "      <td>-60.686356</td>\n",
       "      <td>-31.620964</td>\n",
       "    </tr>\n",
       "    <tr>\n",
       "      <th>...</th>\n",
       "      <td>...</td>\n",
       "      <td>...</td>\n",
       "      <td>...</td>\n",
       "      <td>...</td>\n",
       "      <td>...</td>\n",
       "      <td>...</td>\n",
       "      <td>...</td>\n",
       "      <td>...</td>\n",
       "      <td>...</td>\n",
       "      <td>...</td>\n",
       "      <td>...</td>\n",
       "      <td>...</td>\n",
       "      <td>...</td>\n",
       "      <td>...</td>\n",
       "      <td>...</td>\n",
       "      <td>...</td>\n",
       "      <td>...</td>\n",
       "      <td>...</td>\n",
       "      <td>...</td>\n",
       "      <td>...</td>\n",
       "      <td>...</td>\n",
       "    </tr>\n",
       "    <tr>\n",
       "      <th>301574</th>\n",
       "      <td>2019-12-20</td>\n",
       "      <td>9000664515</td>\n",
       "      <td>300010797</td>\n",
       "      <td>a4</td>\n",
       "      <td>autoservicio amarillo</td>\n",
       "      <td>zapala</td>\n",
       "      <td>mitre 753</td>\n",
       "      <td>campaña</td>\n",
       "      <td>44149</td>\n",
       "      <td>4484769</td>\n",
       "      <td>...</td>\n",
       "      <td>1</td>\n",
       "      <td>0.720</td>\n",
       "      <td>2019-12-20</td>\n",
       "      <td>1</td>\n",
       "      <td>0.720</td>\n",
       "      <td>352.30</td>\n",
       "      <td>32068.02</td>\n",
       "      <td>neuquen</td>\n",
       "      <td>-70.056925</td>\n",
       "      <td>-38.905279</td>\n",
       "    </tr>\n",
       "    <tr>\n",
       "      <th>301575</th>\n",
       "      <td>2019-12-30</td>\n",
       "      <td>9000670751</td>\n",
       "      <td>300006501</td>\n",
       "      <td>a4</td>\n",
       "      <td>autoservicio amarillo</td>\n",
       "      <td>villa regina</td>\n",
       "      <td>vuelta de obligado 847</td>\n",
       "      <td>campaña</td>\n",
       "      <td>44149</td>\n",
       "      <td>4491842</td>\n",
       "      <td>...</td>\n",
       "      <td>1</td>\n",
       "      <td>0.720</td>\n",
       "      <td>2019-12-30</td>\n",
       "      <td>1</td>\n",
       "      <td>0.720</td>\n",
       "      <td>352.30</td>\n",
       "      <td>18743.84</td>\n",
       "      <td>neuquen</td>\n",
       "      <td>-67.098505</td>\n",
       "      <td>-39.098719</td>\n",
       "    </tr>\n",
       "    <tr>\n",
       "      <th>301576</th>\n",
       "      <td>2019-12-28</td>\n",
       "      <td>9000670707</td>\n",
       "      <td>300006039</td>\n",
       "      <td>a3</td>\n",
       "      <td>autoservicio</td>\n",
       "      <td>chos malal</td>\n",
       "      <td>jaime de nevares y ruta 40 0</td>\n",
       "      <td>campaña</td>\n",
       "      <td>44149</td>\n",
       "      <td>4492385</td>\n",
       "      <td>...</td>\n",
       "      <td>1</td>\n",
       "      <td>0.720</td>\n",
       "      <td>2019-12-28</td>\n",
       "      <td>1</td>\n",
       "      <td>0.720</td>\n",
       "      <td>352.30</td>\n",
       "      <td>59706.07</td>\n",
       "      <td>neuquen</td>\n",
       "      <td>-70.266520</td>\n",
       "      <td>-37.353810</td>\n",
       "    </tr>\n",
       "    <tr>\n",
       "      <th>301577</th>\n",
       "      <td>2019-12-28</td>\n",
       "      <td>9000674538</td>\n",
       "      <td>300009412</td>\n",
       "      <td>a1</td>\n",
       "      <td>supermercado</td>\n",
       "      <td>bariloche</td>\n",
       "      <td>9 de julio y fagniano</td>\n",
       "      <td>campaña</td>\n",
       "      <td>44152</td>\n",
       "      <td>4494123</td>\n",
       "      <td>...</td>\n",
       "      <td>1</td>\n",
       "      <td>0.680</td>\n",
       "      <td>2019-12-28</td>\n",
       "      <td>1</td>\n",
       "      <td>0.680</td>\n",
       "      <td>378.10</td>\n",
       "      <td>31523.00</td>\n",
       "      <td>neuquen</td>\n",
       "      <td>-71.289057</td>\n",
       "      <td>-41.144323</td>\n",
       "    </tr>\n",
       "    <tr>\n",
       "      <th>301578</th>\n",
       "      <td>2019-12-28</td>\n",
       "      <td>9000674538</td>\n",
       "      <td>300009412</td>\n",
       "      <td>a1</td>\n",
       "      <td>supermercado</td>\n",
       "      <td>bariloche</td>\n",
       "      <td>9 de julio y fagniano</td>\n",
       "      <td>campaña</td>\n",
       "      <td>44155</td>\n",
       "      <td>4494123</td>\n",
       "      <td>...</td>\n",
       "      <td>1</td>\n",
       "      <td>0.630</td>\n",
       "      <td>2019-12-28</td>\n",
       "      <td>1</td>\n",
       "      <td>0.630</td>\n",
       "      <td>337.40</td>\n",
       "      <td>31523.00</td>\n",
       "      <td>neuquen</td>\n",
       "      <td>-71.289057</td>\n",
       "      <td>-41.144323</td>\n",
       "    </tr>\n",
       "  </tbody>\n",
       "</table>\n",
       "<p>301394 rows × 21 columns</p>\n",
       "</div>"
      ],
      "text/plain": [
       "           tiempo  nro factura    cliente categoria           tipo negocio  \\\n",
       "0      2017-05-29     93315173  200008870        a5              mayorista   \n",
       "1      2017-06-14     93368453  200008870        a5              mayorista   \n",
       "2      2017-02-21     93074208  200008889        a3           supermercado   \n",
       "3      2017-05-11     93270490  200008889        a3           supermercado   \n",
       "4      2017-05-24     93309184  200008889        a3           supermercado   \n",
       "...           ...          ...        ...       ...                    ...   \n",
       "301574 2019-12-20   9000664515  300010797        a4  autoservicio amarillo   \n",
       "301575 2019-12-30   9000670751  300006501        a4  autoservicio amarillo   \n",
       "301576 2019-12-28   9000670707  300006039        a3           autoservicio   \n",
       "301577 2019-12-28   9000674538  300009412        a1           supermercado   \n",
       "301578 2019-12-28   9000674538  300009412        a1           supermercado   \n",
       "\n",
       "           localidad                     direccion plaza/campaña  producto  \\\n",
       "0           santa fe             av del valle 7199         plaza     90746   \n",
       "1           santa fe             av del valle 7199         plaza     90746   \n",
       "2           santa fe                 gral.paz 5374         plaza     90740   \n",
       "3           santa fe                 gral.paz 5374         plaza     90746   \n",
       "4           santa fe                 gral.paz 5374         plaza     90746   \n",
       "...              ...                           ...           ...       ...   \n",
       "301574        zapala                     mitre 753       campaña     44149   \n",
       "301575  villa regina        vuelta de obligado 847       campaña     44149   \n",
       "301576    chos malal  jaime de nevares y ruta 40 0       campaña     44149   \n",
       "301577     bariloche         9 de julio y fagniano       campaña     44152   \n",
       "301578     bariloche         9 de julio y fagniano       campaña     44155   \n",
       "\n",
       "        nro pedido  ... u pedidas  kg pedidos  fecha liq u entregadas  \\\n",
       "0          2736812  ...         1       1.250 2017-05-29            1   \n",
       "1          2765668  ...         1       1.250 2017-06-14            1   \n",
       "2          2546672  ...         2       1.464 2017-02-21            2   \n",
       "3          2702464  ...         1       1.250 2017-05-11            1   \n",
       "4          2732609  ...         1       1.250 2017-05-24            1   \n",
       "...            ...  ...       ...         ...        ...          ...   \n",
       "301574     4484769  ...         1       0.720 2019-12-20            1   \n",
       "301575     4491842  ...         1       0.720 2019-12-30            1   \n",
       "301576     4492385  ...         1       0.720 2019-12-28            1   \n",
       "301577     4494123  ...         1       0.680 2019-12-28            1   \n",
       "301578     4494123  ...         1       0.630 2019-12-28            1   \n",
       "\n",
       "        kg entregados  importe bruto  importe factura  sucursal   longitud  \\\n",
       "0               1.250         231.70         12421.88  santa fe -60.691979   \n",
       "1               1.250         231.70         19944.84  santa fe -60.691979   \n",
       "2               1.464         324.96         24534.07  santa fe -60.686356   \n",
       "3               1.250         231.70         27204.63  santa fe -60.686356   \n",
       "4               1.250         231.70         16573.12  santa fe -60.686356   \n",
       "...               ...            ...              ...       ...        ...   \n",
       "301574          0.720         352.30         32068.02   neuquen -70.056925   \n",
       "301575          0.720         352.30         18743.84   neuquen -67.098505   \n",
       "301576          0.720         352.30         59706.07   neuquen -70.266520   \n",
       "301577          0.680         378.10         31523.00   neuquen -71.289057   \n",
       "301578          0.630         337.40         31523.00   neuquen -71.289057   \n",
       "\n",
       "          latitud  \n",
       "0      -31.602638  \n",
       "1      -31.602638  \n",
       "2      -31.620964  \n",
       "3      -31.620964  \n",
       "4      -31.620964  \n",
       "...           ...  \n",
       "301574 -38.905279  \n",
       "301575 -39.098719  \n",
       "301576 -37.353810  \n",
       "301577 -41.144323  \n",
       "301578 -41.144323  \n",
       "\n",
       "[301394 rows x 21 columns]"
      ]
     },
     "execution_count": 25,
     "metadata": {},
     "output_type": "execute_result"
    }
   ],
   "source": [
    "data"
   ]
  },
  {
   "cell_type": "code",
   "execution_count": 26,
   "metadata": {},
   "outputs": [],
   "source": [
    "data.to_csv(\"../data/base_limpia.csv\", index=False)"
   ]
  },
  {
   "cell_type": "markdown",
   "metadata": {},
   "source": [
    "# Precio Nafta"
   ]
  },
  {
   "cell_type": "code",
   "execution_count": 14,
   "metadata": {},
   "outputs": [],
   "source": [
    "precio_nafta_orig = pd.read_csv(\"../data/precios-historicos.csv\")"
   ]
  },
  {
   "cell_type": "code",
   "execution_count": 15,
   "metadata": {},
   "outputs": [],
   "source": [
    "precio_nafta = precio_nafta_orig.copy()"
   ]
  },
  {
   "cell_type": "code",
   "execution_count": 16,
   "metadata": {},
   "outputs": [
    {
     "data": {
      "text/html": [
       "<div>\n",
       "<style scoped>\n",
       "    .dataframe tbody tr th:only-of-type {\n",
       "        vertical-align: middle;\n",
       "    }\n",
       "\n",
       "    .dataframe tbody tr th {\n",
       "        vertical-align: top;\n",
       "    }\n",
       "\n",
       "    .dataframe thead th {\n",
       "        text-align: right;\n",
       "    }\n",
       "</style>\n",
       "<table border=\"1\" class=\"dataframe\">\n",
       "  <thead>\n",
       "    <tr style=\"text-align: right;\">\n",
       "      <th></th>\n",
       "      <th>idempresa</th>\n",
       "      <th>empresa</th>\n",
       "      <th>direccion</th>\n",
       "      <th>localidad</th>\n",
       "      <th>provincia</th>\n",
       "      <th>idproducto</th>\n",
       "      <th>producto</th>\n",
       "      <th>idtipohorario</th>\n",
       "      <th>tipohorario</th>\n",
       "      <th>precio</th>\n",
       "      <th>fecha_vigencia</th>\n",
       "      <th>idempresabandera</th>\n",
       "      <th>empresabandera</th>\n",
       "      <th>latitud</th>\n",
       "      <th>longitud</th>\n",
       "      <th>geojson</th>\n",
       "    </tr>\n",
       "  </thead>\n",
       "  <tbody>\n",
       "    <tr>\n",
       "      <th>0</th>\n",
       "      <td>1376</td>\n",
       "      <td>10 DE SETIEMBRE S.A.</td>\n",
       "      <td>Av. Mosconi 299</td>\n",
       "      <td>LOMAS DEL MIRADOR</td>\n",
       "      <td>BUENOS AIRES</td>\n",
       "      <td>6</td>\n",
       "      <td>GNC</td>\n",
       "      <td>2</td>\n",
       "      <td>Diurno</td>\n",
       "      <td>8.79</td>\n",
       "      <td>27/03/2017 10:38</td>\n",
       "      <td>1</td>\n",
       "      <td>BLANCA</td>\n",
       "      <td>-34.658476</td>\n",
       "      <td>-58.529443</td>\n",
       "      <td>{\"type\":\"Point\",\"coordinates\":[-58.529443,-34....</td>\n",
       "    </tr>\n",
       "    <tr>\n",
       "      <th>1</th>\n",
       "      <td>1376</td>\n",
       "      <td>10 DE SETIEMBRE S.A.</td>\n",
       "      <td>Av. Mosconi 299</td>\n",
       "      <td>LOMAS DEL MIRADOR</td>\n",
       "      <td>BUENOS AIRES</td>\n",
       "      <td>6</td>\n",
       "      <td>GNC</td>\n",
       "      <td>3</td>\n",
       "      <td>Nocturno</td>\n",
       "      <td>8.79</td>\n",
       "      <td>27/03/2017 10:38</td>\n",
       "      <td>1</td>\n",
       "      <td>BLANCA</td>\n",
       "      <td>-34.658476</td>\n",
       "      <td>-58.529443</td>\n",
       "      <td>{\"type\":\"Point\",\"coordinates\":[-58.529443,-34....</td>\n",
       "    </tr>\n",
       "    <tr>\n",
       "      <th>2</th>\n",
       "      <td>8943</td>\n",
       "      <td>1913 SRL</td>\n",
       "      <td>Julio A Roca 715</td>\n",
       "      <td>GOBERNADOR COSTA</td>\n",
       "      <td>CHUBUT</td>\n",
       "      <td>19</td>\n",
       "      <td>Gas Oil Grado 2</td>\n",
       "      <td>2</td>\n",
       "      <td>Diurno</td>\n",
       "      <td>14.96</td>\n",
       "      <td>06/04/2017 20:51</td>\n",
       "      <td>26</td>\n",
       "      <td>AXION</td>\n",
       "      <td>-44.050662</td>\n",
       "      <td>-70.583041</td>\n",
       "      <td>{\"type\":\"Point\",\"coordinates\":[-70.583041,-44....</td>\n",
       "    </tr>\n",
       "    <tr>\n",
       "      <th>3</th>\n",
       "      <td>8943</td>\n",
       "      <td>1913 SRL</td>\n",
       "      <td>Julio A Roca 715</td>\n",
       "      <td>GOBERNADOR COSTA</td>\n",
       "      <td>CHUBUT</td>\n",
       "      <td>19</td>\n",
       "      <td>Gas Oil Grado 2</td>\n",
       "      <td>3</td>\n",
       "      <td>Nocturno</td>\n",
       "      <td>14.96</td>\n",
       "      <td>06/04/2017 20:51</td>\n",
       "      <td>26</td>\n",
       "      <td>AXION</td>\n",
       "      <td>-44.050662</td>\n",
       "      <td>-70.583041</td>\n",
       "      <td>{\"type\":\"Point\",\"coordinates\":[-70.583041,-44....</td>\n",
       "    </tr>\n",
       "    <tr>\n",
       "      <th>4</th>\n",
       "      <td>8943</td>\n",
       "      <td>1913 SRL</td>\n",
       "      <td>Julio A Roca 715</td>\n",
       "      <td>GOBERNADOR COSTA</td>\n",
       "      <td>CHUBUT</td>\n",
       "      <td>21</td>\n",
       "      <td>Gas Oil Grado 3</td>\n",
       "      <td>2</td>\n",
       "      <td>Diurno</td>\n",
       "      <td>16.75</td>\n",
       "      <td>06/04/2017 20:52</td>\n",
       "      <td>26</td>\n",
       "      <td>AXION</td>\n",
       "      <td>-44.050662</td>\n",
       "      <td>-70.583041</td>\n",
       "      <td>{\"type\":\"Point\",\"coordinates\":[-70.583041,-44....</td>\n",
       "    </tr>\n",
       "  </tbody>\n",
       "</table>\n",
       "</div>"
      ],
      "text/plain": [
       "   idempresa               empresa         direccion          localidad  \\\n",
       "0       1376  10 DE SETIEMBRE S.A.   Av. Mosconi 299  LOMAS DEL MIRADOR   \n",
       "1       1376  10 DE SETIEMBRE S.A.   Av. Mosconi 299  LOMAS DEL MIRADOR   \n",
       "2       8943              1913 SRL  Julio A Roca 715   GOBERNADOR COSTA   \n",
       "3       8943              1913 SRL  Julio A Roca 715   GOBERNADOR COSTA   \n",
       "4       8943              1913 SRL  Julio A Roca 715   GOBERNADOR COSTA   \n",
       "\n",
       "      provincia  idproducto         producto  idtipohorario tipohorario  \\\n",
       "0  BUENOS AIRES           6              GNC              2      Diurno   \n",
       "1  BUENOS AIRES           6              GNC              3    Nocturno   \n",
       "2        CHUBUT          19  Gas Oil Grado 2              2      Diurno   \n",
       "3        CHUBUT          19  Gas Oil Grado 2              3    Nocturno   \n",
       "4        CHUBUT          21  Gas Oil Grado 3              2      Diurno   \n",
       "\n",
       "   precio    fecha_vigencia  idempresabandera empresabandera    latitud  \\\n",
       "0    8.79  27/03/2017 10:38                 1         BLANCA -34.658476   \n",
       "1    8.79  27/03/2017 10:38                 1         BLANCA -34.658476   \n",
       "2   14.96  06/04/2017 20:51                26          AXION -44.050662   \n",
       "3   14.96  06/04/2017 20:51                26          AXION -44.050662   \n",
       "4   16.75  06/04/2017 20:52                26          AXION -44.050662   \n",
       "\n",
       "    longitud                                            geojson  \n",
       "0 -58.529443  {\"type\":\"Point\",\"coordinates\":[-58.529443,-34....  \n",
       "1 -58.529443  {\"type\":\"Point\",\"coordinates\":[-58.529443,-34....  \n",
       "2 -70.583041  {\"type\":\"Point\",\"coordinates\":[-70.583041,-44....  \n",
       "3 -70.583041  {\"type\":\"Point\",\"coordinates\":[-70.583041,-44....  \n",
       "4 -70.583041  {\"type\":\"Point\",\"coordinates\":[-70.583041,-44....  "
      ]
     },
     "execution_count": 16,
     "metadata": {},
     "output_type": "execute_result"
    }
   ],
   "source": [
    "precio_nafta.head()"
   ]
  },
  {
   "cell_type": "markdown",
   "metadata": {},
   "source": [
    "Nos quedamos solo con las columnas de producto, precio y fecha."
   ]
  },
  {
   "cell_type": "code",
   "execution_count": 17,
   "metadata": {},
   "outputs": [],
   "source": [
    "precio_nafta = precio_nafta[[\"producto\", \"precio\", \"fecha_vigencia\"]]"
   ]
  },
  {
   "cell_type": "code",
   "execution_count": 18,
   "metadata": {},
   "outputs": [],
   "source": [
    "precio_nafta = precio_nafta.rename(columns={\"fecha_vigencia\":\"fecha\"})"
   ]
  },
  {
   "cell_type": "markdown",
   "metadata": {},
   "source": [
    "Marcamos las fechas validas e invalidas."
   ]
  },
  {
   "cell_type": "code",
   "execution_count": 19,
   "metadata": {},
   "outputs": [],
   "source": [
    "pat = r\"[0123]\\d/[01]\\d/20[012]\\d [012]\\d:[0123456]\\d\"\n",
    "precio_nafta[\"valid\"] = precio_nafta.fecha.str.match(pat)"
   ]
  },
  {
   "cell_type": "code",
   "execution_count": 20,
   "metadata": {},
   "outputs": [
    {
     "data": {
      "text/plain": [
       "133645    04/12/0008 00:00\n",
       "133646    04/12/0008 00:00\n",
       "241568    01/01/0006 06:00\n",
       "241569    01/01/0006 06:00\n",
       "241626    18/01/0006 00:00\n",
       "241627    18/01/0006 00:00\n",
       "297003    02/05/4201 11:32\n",
       "297004    02/05/4201 11:32\n",
       "297196    11/07/3201 08:47\n",
       "297197    11/07/3201 08:47\n",
       "Name: fecha, dtype: object"
      ]
     },
     "execution_count": 20,
     "metadata": {},
     "output_type": "execute_result"
    }
   ],
   "source": [
    "precio_nafta[~precio_nafta.valid].fecha.head(10)"
   ]
  },
  {
   "cell_type": "code",
   "execution_count": 21,
   "metadata": {},
   "outputs": [
    {
     "name": "stdout",
     "output_type": "stream",
     "text": [
      "Numero de fechas invalidas: 55\n"
     ]
    }
   ],
   "source": [
    "print(\"Numero de fechas invalidas:\", len(precio_nafta[~precio_nafta.valid]))"
   ]
  },
  {
   "cell_type": "markdown",
   "metadata": {},
   "source": [
    "Nos quedamos solo con las observaciones que tienen fechas válidas y las convertimos a datetime."
   ]
  },
  {
   "cell_type": "code",
   "execution_count": 22,
   "metadata": {},
   "outputs": [],
   "source": [
    "precio_nafta = precio_nafta[precio_nafta.valid].copy()\n",
    "precio_nafta.loc[:, \"fecha\"] = pd.to_datetime(precio_nafta.fecha)"
   ]
  },
  {
   "cell_type": "markdown",
   "metadata": {},
   "source": [
    "La columna que marca las observaciones con fechas válidas ya no hace falta, así que la tiramos."
   ]
  },
  {
   "cell_type": "code",
   "execution_count": 23,
   "metadata": {},
   "outputs": [],
   "source": [
    "precio_nafta = precio_nafta.drop(columns=\"valid\")"
   ]
  },
  {
   "cell_type": "markdown",
   "metadata": {},
   "source": [
    "Limpiamos los nombres de los productos."
   ]
  },
  {
   "cell_type": "code",
   "execution_count": 24,
   "metadata": {},
   "outputs": [],
   "source": [
    "precio_nafta.loc[precio_nafta.producto == \"GNC\", \"producto\"] = \"gnc\"\n",
    "precio_nafta.loc[precio_nafta.producto == \"Gas Oil Grado 2\", \"producto\"] = \"gasoil 2\"\n",
    "precio_nafta.loc[precio_nafta.producto == \"Gas Oil Grado 3\", \"producto\"] = \"gasoil 3\"\n",
    "precio_nafta.loc[precio_nafta.producto == \"Nafta (súper) entre 92 y 95 Ron\", \"producto\"] = \"super\"\n",
    "precio_nafta.loc[precio_nafta.producto == \"Nafta (premium) de más de 95 Ron\", \"producto\"] = \"premium\""
   ]
  },
  {
   "cell_type": "markdown",
   "metadata": {},
   "source": [
    "Nos quedamos solo con las obsevaciones que corresponden al período entre 2017 y 2020."
   ]
  },
  {
   "cell_type": "code",
   "execution_count": 25,
   "metadata": {},
   "outputs": [],
   "source": [
    "precio_nafta = precio_nafta.set_index(\"fecha\").sort_index()\n",
    "precio_nafta = precio_nafta[(precio_nafta.index.year >= 2017) & (precio_nafta.index.year < 2020)]"
   ]
  },
  {
   "cell_type": "markdown",
   "metadata": {},
   "source": [
    "Construimos una tabla con los precios diarios para cada tipo de combustible."
   ]
  },
  {
   "cell_type": "code",
   "execution_count": 36,
   "metadata": {},
   "outputs": [],
   "source": [
    "precios = pd.pivot_table(precio_nafta, values=\"precio\", columns=\"producto\", index=precio_nafta.index, aggfunc=\"mean\").resample(\"D\").mean()"
   ]
  },
  {
   "cell_type": "code",
   "execution_count": 37,
   "metadata": {},
   "outputs": [
    {
     "data": {
      "text/plain": [
       "<matplotlib.axes._subplots.AxesSubplot at 0x2441843e848>"
      ]
     },
     "execution_count": 37,
     "metadata": {},
     "output_type": "execute_result"
    },
    {
     "data": {
      "image/png": "[encoded data removed]",
      "text/plain": [
       "<Figure size 1152x288 with 1 Axes>"
      ]
     },
     "metadata": {
      "needs_background": "light"
     },
     "output_type": "display_data"
    }
   ],
   "source": [
    "precios.plot()"
   ]
  },
  {
   "cell_type": "markdown",
   "metadata": {},
   "source": [
    "Por alguna razón surgen unas oscilaciones inesperadas en los precios. Probablemente se requiera hacer una limpieza adicional en los datos originales para removerlas. Sin embargo, salvo por esos picos, el resto de la curva sigue valores razonables. Dado que solo estamos interesados en la tendencia general para utilizarla como indicador económico, lo que podemos hacer es tomar una mediana deslizante seguida de un promedio deslizante, para así eliminar los picos y obtener una curva suave."
   ]
  },
  {
   "cell_type": "code",
   "execution_count": 38,
   "metadata": {},
   "outputs": [],
   "source": [
    "indicador = precios.rolling(30, min_periods=1).median().rolling(30).mean().bfill()"
   ]
  },
  {
   "cell_type": "code",
   "execution_count": 39,
   "metadata": {},
   "outputs": [
    {
     "data": {
      "text/plain": [
       "<matplotlib.axes._subplots.AxesSubplot at 0x2441839e688>"
      ]
     },
     "execution_count": 39,
     "metadata": {},
     "output_type": "execute_result"
    },
    {
     "data": {
      "image/png": "[encoded data removed]",
      "text/plain": [
       "<Figure size 1152x288 with 1 Axes>"
      ]
     },
     "metadata": {
      "needs_background": "light"
     },
     "output_type": "display_data"
    }
   ],
   "source": [
    "indicador.plot()"
   ]
  },
  {
   "cell_type": "markdown",
   "metadata": {},
   "source": [
    "Eliminamos el valor del gnc ya que sigue un patrón diferente al resto."
   ]
  },
  {
   "cell_type": "code",
   "execution_count": 40,
   "metadata": {},
   "outputs": [],
   "source": [
    "indicador = indicador.drop(columns=\"gnc\")"
   ]
  },
  {
   "cell_type": "markdown",
   "metadata": {},
   "source": [
    "Podemos tomar una de las curvas como representante o tomar un promedio de todas. Vamos a optar por promediarlas."
   ]
  },
  {
   "cell_type": "code",
   "execution_count": 42,
   "metadata": {},
   "outputs": [],
   "source": [
    "indicador_promedio = indicador.mean(axis=1)"
   ]
  },
  {
   "cell_type": "code",
   "execution_count": 43,
   "metadata": {},
   "outputs": [
    {
     "data": {
      "text/plain": [
       "<matplotlib.axes._subplots.AxesSubplot at 0x24418353588>"
      ]
     },
     "execution_count": 43,
     "metadata": {},
     "output_type": "execute_result"
    },
    {
     "data": {
      "image/png": "[encoded data removed]",
      "text/plain": [
       "<Figure size 1152x288 with 1 Axes>"
      ]
     },
     "metadata": {
      "needs_background": "light"
     },
     "output_type": "display_data"
    }
   ],
   "source": [
    "indicador_promedio.plot()"
   ]
  },
  {
   "cell_type": "code",
   "execution_count": 44,
   "metadata": {},
   "outputs": [],
   "source": [
    "indicador_promedio.name = \"indicador\"\n",
    "indicador_promedio = indicador_promedio.reset_index()\n",
    "indicador_promedio"
   ]
  },
  {
   "cell_type": "markdown",
   "metadata": {},
   "source": [
    "Guardamos el indicador."
   ]
  },
  {
   "cell_type": "code",
   "execution_count": 436,
   "metadata": {},
   "outputs": [],
   "source": [
    "indicador_promedio.to_csv(\"../data/indicador_económico.csv\", index=False)"
   ]
  },
  {
   "cell_type": "code",
   "execution_count": null,
   "metadata": {},
   "outputs": [],
   "source": []
  }
 ],
 "metadata": {
  "kernelspec": {
   "display_name": "Python 3",
   "language": "python",
   "name": "python3"
  },
  "language_info": {
   "codemirror_mode": {
    "name": "ipython",
    "version": 3
   },
   "file_extension": ".py",
   "mimetype": "text/x-python",
   "name": "python",
   "nbconvert_exporter": "python",
   "pygments_lexer": "ipython3",
   "version": "3.7.6"
  }
 },
 "nbformat": 4,
 "nbformat_minor": 4
}
